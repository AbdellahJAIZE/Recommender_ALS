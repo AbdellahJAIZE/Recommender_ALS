{
  "nbformat": 4,
  "nbformat_minor": 0,
  "metadata": {
    "colab": {
      "name": "rapids-colab.ipynb",
      "provenance": [],
      "collapsed_sections": []
    },
    "kernelspec": {
      "name": "python3",
      "display_name": "Python 3"
    },
    "accelerator": "GPU"
  },
  "cells": [
    {
      "cell_type": "code",
      "source": [
        "#imports\n",
        "import cupy as cp\n",
        "import cupyx.scipy.sparse\n",
        "import cudf\n",
        "import numpy as np"
      ],
      "metadata": {
        "id": "DXaUoWx3jQfm"
      },
      "execution_count": null,
      "outputs": []
    },
    {
      "cell_type": "code",
      "source": [
        "#Getting out DataSet\n",
        "!wget http://snap.stanford.edu/data/amazon/productGraph/categoryFiles/reviews_Musical_Instruments_5.json.gz\n",
        "!gunzip -k reviews_Musical_Instruments_5.json.gz"
      ],
      "metadata": {
        "id": "k9ZYn2RkoIuM",
        "outputId": "3c2975c1-2039-4338-8020-07cdd3ff0f64",
        "colab": {
          "base_uri": "https://localhost:8080/"
        }
      },
      "execution_count": 14,
      "outputs": [
        {
          "output_type": "stream",
          "name": "stdout",
          "text": [
            "--2022-01-28 17:01:42--  http://snap.stanford.edu/data/amazon/productGraph/categoryFiles/reviews_Musical_Instruments_5.json.gz\n",
            "Resolving snap.stanford.edu (snap.stanford.edu)... 171.64.75.80\n",
            "Connecting to snap.stanford.edu (snap.stanford.edu)|171.64.75.80|:80... connected.\n",
            "HTTP request sent, awaiting response... 200 OK\n",
            "Length: 2460495 (2.3M) [application/x-gzip]\n",
            "Saving to: ‘reviews_Musical_Instruments_5.json.gz’\n",
            "\n",
            "reviews_Musical_Ins 100%[===================>]   2.35M  1.77MB/s    in 1.3s    \n",
            "\n",
            "2022-01-28 17:01:44 (1.77 MB/s) - ‘reviews_Musical_Instruments_5.json.gz’ saved [2460495/2460495]\n",
            "\n"
          ]
        }
      ]
    },
    {
      "cell_type": "code",
      "source": [
        "#reading out DataSet\n",
        "ratings = cudf.read_json(\"reviews_Musical_Instruments_5.json\", lines=True)"
      ],
      "metadata": {
        "id": "HVub-QPUotYL"
      },
      "execution_count": 22,
      "outputs": []
    },
    {
      "cell_type": "code",
      "source": [
        "ratings.head()"
      ],
      "metadata": {
        "id": "okkjKrO4pPdH",
        "outputId": "a12b8abe-e66f-459b-c0a1-5172f63a1bad",
        "colab": {
          "base_uri": "https://localhost:8080/",
          "height": 206
        }
      },
      "execution_count": 23,
      "outputs": [
        {
          "output_type": "execute_result",
          "data": {
            "text/html": [
              "<div>\n",
              "<style scoped>\n",
              "    .dataframe tbody tr th:only-of-type {\n",
              "        vertical-align: middle;\n",
              "    }\n",
              "\n",
              "    .dataframe tbody tr th {\n",
              "        vertical-align: top;\n",
              "    }\n",
              "\n",
              "    .dataframe thead th {\n",
              "        text-align: right;\n",
              "    }\n",
              "</style>\n",
              "<table border=\"1\" class=\"dataframe\">\n",
              "  <thead>\n",
              "    <tr style=\"text-align: right;\">\n",
              "      <th></th>\n",
              "      <th>reviewerID</th>\n",
              "      <th>asin</th>\n",
              "      <th>reviewerName</th>\n",
              "      <th>helpful</th>\n",
              "      <th>reviewText</th>\n",
              "      <th>overall</th>\n",
              "      <th>summary</th>\n",
              "      <th>unixReviewTime</th>\n",
              "      <th>reviewTime</th>\n",
              "    </tr>\n",
              "  </thead>\n",
              "  <tbody>\n",
              "    <tr>\n",
              "      <th>0</th>\n",
              "      <td>A2IBPI20UZIR0U</td>\n",
              "      <td>1384719342</td>\n",
              "      <td>cassandra tu \"Yeah, well, that's just like, u...</td>\n",
              "      <td>[0</td>\n",
              "      <td>Not much to write about here, but it does exac...</td>\n",
              "      <td>5.0</td>\n",
              "      <td>good</td>\n",
              "      <td>1393545600</td>\n",
              "      <td>02 28, 2014</td>\n",
              "    </tr>\n",
              "    <tr>\n",
              "      <th>1</th>\n",
              "      <td>A14VAT5EAX3D9S</td>\n",
              "      <td>1384719342</td>\n",
              "      <td>Jake</td>\n",
              "      <td>[13</td>\n",
              "      <td>The product does exactly as it should and is q...</td>\n",
              "      <td>5.0</td>\n",
              "      <td>Jake</td>\n",
              "      <td>1363392000</td>\n",
              "      <td>03 16, 2013</td>\n",
              "    </tr>\n",
              "    <tr>\n",
              "      <th>2</th>\n",
              "      <td>A195EZSQDW3E21</td>\n",
              "      <td>1384719342</td>\n",
              "      <td>Rick Bennette \"Rick Bennette\"</td>\n",
              "      <td>[1</td>\n",
              "      <td>The primary job of this device is to block the...</td>\n",
              "      <td>5.0</td>\n",
              "      <td>It Does The Job Well</td>\n",
              "      <td>1377648000</td>\n",
              "      <td>08 28, 2013</td>\n",
              "    </tr>\n",
              "    <tr>\n",
              "      <th>3</th>\n",
              "      <td>A2C00NNG1ZQQG2</td>\n",
              "      <td>1384719342</td>\n",
              "      <td>RustyBill \"Sunday Rocker\"</td>\n",
              "      <td>[0</td>\n",
              "      <td>Nice windscreen protects my MXL mic and preven...</td>\n",
              "      <td>5.0</td>\n",
              "      <td>GOOD WINDSCREEN FOR THE MONEY</td>\n",
              "      <td>1392336000</td>\n",
              "      <td>02 14, 2014</td>\n",
              "    </tr>\n",
              "    <tr>\n",
              "      <th>4</th>\n",
              "      <td>A94QU4C90B1AX</td>\n",
              "      <td>1384719342</td>\n",
              "      <td>SEAN MASLANKA</td>\n",
              "      <td>[0</td>\n",
              "      <td>This pop filter is great. It looks and perform...</td>\n",
              "      <td>5.0</td>\n",
              "      <td>No more pops when I record my vocals.</td>\n",
              "      <td>1392940800</td>\n",
              "      <td>02 21, 2014</td>\n",
              "    </tr>\n",
              "  </tbody>\n",
              "</table>\n",
              "</div>"
            ],
            "text/plain": [
              "       reviewerID        asin  ... unixReviewTime   reviewTime\n",
              "0  A2IBPI20UZIR0U  1384719342  ...     1393545600  02 28, 2014\n",
              "1  A14VAT5EAX3D9S  1384719342  ...     1363392000  03 16, 2013\n",
              "2  A195EZSQDW3E21  1384719342  ...     1377648000  08 28, 2013\n",
              "3  A2C00NNG1ZQQG2  1384719342  ...     1392336000  02 14, 2014\n",
              "4   A94QU4C90B1AX  1384719342  ...     1392940800  02 21, 2014\n",
              "\n",
              "[5 rows x 9 columns]"
            ]
          },
          "metadata": {},
          "execution_count": 23
        }
      ]
    },
    {
      "cell_type": "code",
      "source": [
        "#Getting the count of ratings\n",
        "count_ratings = len(ratings)\n",
        "count_ratings"
      ],
      "metadata": {
        "id": "yW83zYT_puL7",
        "outputId": "00f7eccf-33df-46ab-959a-2f894c0e52f4",
        "colab": {
          "base_uri": "https://localhost:8080/"
        }
      },
      "execution_count": 25,
      "outputs": [
        {
          "output_type": "execute_result",
          "data": {
            "text/plain": [
              "10261"
            ]
          },
          "metadata": {},
          "execution_count": 25
        }
      ]
    },
    {
      "cell_type": "markdown",
      "source": [
        "The unixReviewTime column enables us to user the last review left by the user for validation. We will start by finding the largest (newest) review time and assigning it a marker, valid. \n",
        "\n",
        "However, the unixReviewTime only goes down to the day, so if a user does all of their reviews on the same day, then all of their reviews would end up in the validation set. \n",
        "\n",
        "We can add a tie-breaker, or timeBreaker, by adding a scaled version of the row index to the time."
      ],
      "metadata": {
        "id": "HFhT4n2sBAQr"
      }
    },
    {
      "cell_type": "code",
      "source": [
        "scaled_index = ratings.index / count_ratings\n",
        "ratings[\"timeBreaker\"] = scaled_index + ratings[\"unixReviewTime\"]"
      ],
      "metadata": {
        "id": "AeBGlnhtqSrA"
      },
      "execution_count": 26,
      "outputs": []
    },
    {
      "cell_type": "markdown",
      "source": [
        "The as_index parameter for groupby will create a fresh numerical index as opposed to using the reviewerID as the index."
      ],
      "metadata": {
        "id": "1Gdv_X56BrYt"
      }
    },
    {
      "cell_type": "code",
      "source": [
        "valid_ratings = ratings[[\"reviewerID\", \"timeBreaker\"]].groupby(['reviewerID'], as_index=False).max()\n",
        "valid_ratings[\"valid\"] = True\n",
        "\n",
        "valid_ratings.head()"
      ],
      "metadata": {
        "id": "ym0zyAZKqL-v",
        "outputId": "cd4e18cd-3786-4df8-9b18-c388a12038d4",
        "colab": {
          "base_uri": "https://localhost:8080/",
          "height": 206
        }
      },
      "execution_count": 27,
      "outputs": [
        {
          "output_type": "execute_result",
          "data": {
            "text/html": [
              "<div>\n",
              "<style scoped>\n",
              "    .dataframe tbody tr th:only-of-type {\n",
              "        vertical-align: middle;\n",
              "    }\n",
              "\n",
              "    .dataframe tbody tr th {\n",
              "        vertical-align: top;\n",
              "    }\n",
              "\n",
              "    .dataframe thead th {\n",
              "        text-align: right;\n",
              "    }\n",
              "</style>\n",
              "<table border=\"1\" class=\"dataframe\">\n",
              "  <thead>\n",
              "    <tr style=\"text-align: right;\">\n",
              "      <th></th>\n",
              "      <th>reviewerID</th>\n",
              "      <th>timeBreaker</th>\n",
              "      <th>valid</th>\n",
              "    </tr>\n",
              "  </thead>\n",
              "  <tbody>\n",
              "    <tr>\n",
              "      <th>0</th>\n",
              "      <td>A2U7DXDNYBBLQJ</td>\n",
              "      <td>1.322698e+09</td>\n",
              "      <td>True</td>\n",
              "    </tr>\n",
              "    <tr>\n",
              "      <th>1</th>\n",
              "      <td>ASNGOBUI6WHNV</td>\n",
              "      <td>1.403050e+09</td>\n",
              "      <td>True</td>\n",
              "    </tr>\n",
              "    <tr>\n",
              "      <th>2</th>\n",
              "      <td>A3KF2K1ZMAZSX4</td>\n",
              "      <td>1.397779e+09</td>\n",
              "      <td>True</td>\n",
              "    </tr>\n",
              "    <tr>\n",
              "      <th>3</th>\n",
              "      <td>A27PF2GVKMJSAA</td>\n",
              "      <td>1.367885e+09</td>\n",
              "      <td>True</td>\n",
              "    </tr>\n",
              "    <tr>\n",
              "      <th>4</th>\n",
              "      <td>A1EFMEZJESPF76</td>\n",
              "      <td>1.390003e+09</td>\n",
              "      <td>True</td>\n",
              "    </tr>\n",
              "  </tbody>\n",
              "</table>\n",
              "</div>"
            ],
            "text/plain": [
              "       reviewerID   timeBreaker  valid\n",
              "0  A2U7DXDNYBBLQJ  1.322698e+09   True\n",
              "1   ASNGOBUI6WHNV  1.403050e+09   True\n",
              "2  A3KF2K1ZMAZSX4  1.397779e+09   True\n",
              "3  A27PF2GVKMJSAA  1.367885e+09   True\n",
              "4  A1EFMEZJESPF76  1.390003e+09   True"
            ]
          },
          "metadata": {},
          "execution_count": 27
        }
      ]
    },
    {
      "cell_type": "markdown",
      "source": [
        "Next, we merge the validation marker back onto our full ratings dataset to make it easier to pull the training data."
      ],
      "metadata": {
        "id": "e42AnY4RBznZ"
      }
    },
    {
      "cell_type": "code",
      "source": [
        "data_split = ratings.merge(valid_ratings, how=\"left\", on=['reviewerID', \"timeBreaker\"])\n",
        "\n",
        "data_split.head()"
      ],
      "metadata": {
        "id": "dJ6KwftcqXU_",
        "outputId": "e84150a4-ad7f-408e-c7c7-d8c092c6a118",
        "colab": {
          "base_uri": "https://localhost:8080/",
          "height": 241
        }
      },
      "execution_count": 28,
      "outputs": [
        {
          "output_type": "execute_result",
          "data": {
            "text/html": [
              "<div>\n",
              "<style scoped>\n",
              "    .dataframe tbody tr th:only-of-type {\n",
              "        vertical-align: middle;\n",
              "    }\n",
              "\n",
              "    .dataframe tbody tr th {\n",
              "        vertical-align: top;\n",
              "    }\n",
              "\n",
              "    .dataframe thead th {\n",
              "        text-align: right;\n",
              "    }\n",
              "</style>\n",
              "<table border=\"1\" class=\"dataframe\">\n",
              "  <thead>\n",
              "    <tr style=\"text-align: right;\">\n",
              "      <th></th>\n",
              "      <th>reviewerID</th>\n",
              "      <th>asin</th>\n",
              "      <th>reviewerName</th>\n",
              "      <th>helpful</th>\n",
              "      <th>reviewText</th>\n",
              "      <th>overall</th>\n",
              "      <th>summary</th>\n",
              "      <th>unixReviewTime</th>\n",
              "      <th>reviewTime</th>\n",
              "      <th>timeBreaker</th>\n",
              "      <th>valid</th>\n",
              "    </tr>\n",
              "  </thead>\n",
              "  <tbody>\n",
              "    <tr>\n",
              "      <th>0</th>\n",
              "      <td>A3P2J1W1RBUX6Q</td>\n",
              "      <td>B000EEJF4O</td>\n",
              "      <td>Tommy B</td>\n",
              "      <td>[0</td>\n",
              "      <td>This stuff is great. Leaves board clean and fa...</td>\n",
              "      <td>5.0</td>\n",
              "      <td>Try It</td>\n",
              "      <td>1283126400</td>\n",
              "      <td>08 30, 2010</td>\n",
              "      <td>1.283126e+09</td>\n",
              "      <td>&lt;NA&gt;</td>\n",
              "    </tr>\n",
              "    <tr>\n",
              "      <th>1</th>\n",
              "      <td>A21N9ACLVOMDLP</td>\n",
              "      <td>B000EEJJ5Y</td>\n",
              "      <td>Adam G</td>\n",
              "      <td>[0</td>\n",
              "      <td>Just bought this to see if it would inspire an...</td>\n",
              "      <td>5.0</td>\n",
              "      <td>LOVE IT!</td>\n",
              "      <td>1315094400</td>\n",
              "      <td>09 4, 2011</td>\n",
              "      <td>1.315094e+09</td>\n",
              "      <td>&lt;NA&gt;</td>\n",
              "    </tr>\n",
              "    <tr>\n",
              "      <th>2</th>\n",
              "      <td>A14VAT5EAX3D9S</td>\n",
              "      <td>B000EEJJ5Y</td>\n",
              "      <td>Jake</td>\n",
              "      <td>[0</td>\n",
              "      <td>This capo is great for adding another level to...</td>\n",
              "      <td>5.0</td>\n",
              "      <td>Jake</td>\n",
              "      <td>1363392000</td>\n",
              "      <td>03 16, 2013</td>\n",
              "      <td>1.363392e+09</td>\n",
              "      <td>&lt;NA&gt;</td>\n",
              "    </tr>\n",
              "    <tr>\n",
              "      <th>3</th>\n",
              "      <td>A24AQ24CD6865K</td>\n",
              "      <td>B000EEJJ5Y</td>\n",
              "      <td>Rick from Westport, MA</td>\n",
              "      <td>[0</td>\n",
              "      <td>I play in different tunings and just slapping ...</td>\n",
              "      <td>5.0</td>\n",
              "      <td>Lots of fun</td>\n",
              "      <td>1399334400</td>\n",
              "      <td>05 6, 2014</td>\n",
              "      <td>1.399334e+09</td>\n",
              "      <td>&lt;NA&gt;</td>\n",
              "    </tr>\n",
              "    <tr>\n",
              "      <th>4</th>\n",
              "      <td>AOINAOO0NQRGN</td>\n",
              "      <td>B000EEJJ5Y</td>\n",
              "      <td>Sessue</td>\n",
              "      <td>[0</td>\n",
              "      <td>This partial capo from Kyser has the same desi...</td>\n",
              "      <td>5.0</td>\n",
              "      <td>Same quality as the bestselling Kyser full capo</td>\n",
              "      <td>1329782400</td>\n",
              "      <td>02 21, 2012</td>\n",
              "      <td>1.329782e+09</td>\n",
              "      <td>&lt;NA&gt;</td>\n",
              "    </tr>\n",
              "  </tbody>\n",
              "</table>\n",
              "</div>"
            ],
            "text/plain": [
              "       reviewerID        asin  ...   timeBreaker valid\n",
              "0  A3P2J1W1RBUX6Q  B000EEJF4O  ...  1.283126e+09  <NA>\n",
              "1  A21N9ACLVOMDLP  B000EEJJ5Y  ...  1.315094e+09  <NA>\n",
              "2  A14VAT5EAX3D9S  B000EEJJ5Y  ...  1.363392e+09  <NA>\n",
              "3  A24AQ24CD6865K  B000EEJJ5Y  ...  1.399334e+09  <NA>\n",
              "4   AOINAOO0NQRGN  B000EEJJ5Y  ...  1.329782e+09  <NA>\n",
              "\n",
              "[5 rows x 11 columns]"
            ]
          },
          "metadata": {},
          "execution_count": 28
        }
      ]
    },
    {
      "cell_type": "code",
      "source": [
        "# To keep things clean, we'll replace the nulls in the valid column with False.\n",
        "data_split['valid'].fillna(False, inplace = True)"
      ],
      "metadata": {
        "id": "7JgF3Nbkqfle"
      },
      "execution_count": 29,
      "outputs": []
    },
    {
      "cell_type": "code",
      "source": [
        "# We'll keep a simplified table of the user-item validation ratings to make it easier to check our work later.\n",
        "clean_columns = [\"reviewerID\", \"asin\", \"overall\"]\n",
        "train_overall = data_split.loc[~data_split['valid']][clean_columns]\n",
        "\n",
        "train_overall.head()"
      ],
      "metadata": {
        "id": "3Lv0jwwtqiws",
        "outputId": "28bf9503-dc7d-4e95-e984-efcf1a5d96c6",
        "colab": {
          "base_uri": "https://localhost:8080/",
          "height": 206
        }
      },
      "execution_count": 30,
      "outputs": [
        {
          "output_type": "execute_result",
          "data": {
            "text/html": [
              "<div>\n",
              "<style scoped>\n",
              "    .dataframe tbody tr th:only-of-type {\n",
              "        vertical-align: middle;\n",
              "    }\n",
              "\n",
              "    .dataframe tbody tr th {\n",
              "        vertical-align: top;\n",
              "    }\n",
              "\n",
              "    .dataframe thead th {\n",
              "        text-align: right;\n",
              "    }\n",
              "</style>\n",
              "<table border=\"1\" class=\"dataframe\">\n",
              "  <thead>\n",
              "    <tr style=\"text-align: right;\">\n",
              "      <th></th>\n",
              "      <th>reviewerID</th>\n",
              "      <th>asin</th>\n",
              "      <th>overall</th>\n",
              "    </tr>\n",
              "  </thead>\n",
              "  <tbody>\n",
              "    <tr>\n",
              "      <th>0</th>\n",
              "      <td>A3P2J1W1RBUX6Q</td>\n",
              "      <td>B000EEJF4O</td>\n",
              "      <td>5.0</td>\n",
              "    </tr>\n",
              "    <tr>\n",
              "      <th>1</th>\n",
              "      <td>A21N9ACLVOMDLP</td>\n",
              "      <td>B000EEJJ5Y</td>\n",
              "      <td>5.0</td>\n",
              "    </tr>\n",
              "    <tr>\n",
              "      <th>2</th>\n",
              "      <td>A14VAT5EAX3D9S</td>\n",
              "      <td>B000EEJJ5Y</td>\n",
              "      <td>5.0</td>\n",
              "    </tr>\n",
              "    <tr>\n",
              "      <th>3</th>\n",
              "      <td>A24AQ24CD6865K</td>\n",
              "      <td>B000EEJJ5Y</td>\n",
              "      <td>5.0</td>\n",
              "    </tr>\n",
              "    <tr>\n",
              "      <th>4</th>\n",
              "      <td>AOINAOO0NQRGN</td>\n",
              "      <td>B000EEJJ5Y</td>\n",
              "      <td>5.0</td>\n",
              "    </tr>\n",
              "  </tbody>\n",
              "</table>\n",
              "</div>"
            ],
            "text/plain": [
              "       reviewerID        asin  overall\n",
              "0  A3P2J1W1RBUX6Q  B000EEJF4O      5.0\n",
              "1  A21N9ACLVOMDLP  B000EEJJ5Y      5.0\n",
              "2  A14VAT5EAX3D9S  B000EEJJ5Y      5.0\n",
              "3  A24AQ24CD6865K  B000EEJJ5Y      5.0\n",
              "4   AOINAOO0NQRGN  B000EEJJ5Y      5.0"
            ]
          },
          "metadata": {},
          "execution_count": 30
        }
      ]
    },
    {
      "cell_type": "code",
      "source": [
        "valid_overall = data_split.loc[data_split['valid']][clean_columns]\n",
        "\n",
        "valid_overall.head()"
      ],
      "metadata": {
        "id": "6m8dgICIqi0N",
        "outputId": "1927d060-f6eb-4f28-baa8-8823891c5bac",
        "colab": {
          "base_uri": "https://localhost:8080/",
          "height": 206
        }
      },
      "execution_count": 39,
      "outputs": [
        {
          "output_type": "execute_result",
          "data": {
            "text/html": [
              "<div>\n",
              "<style scoped>\n",
              "    .dataframe tbody tr th:only-of-type {\n",
              "        vertical-align: middle;\n",
              "    }\n",
              "\n",
              "    .dataframe tbody tr th {\n",
              "        vertical-align: top;\n",
              "    }\n",
              "\n",
              "    .dataframe thead th {\n",
              "        text-align: right;\n",
              "    }\n",
              "</style>\n",
              "<table border=\"1\" class=\"dataframe\">\n",
              "  <thead>\n",
              "    <tr style=\"text-align: right;\">\n",
              "      <th></th>\n",
              "      <th>reviewerID</th>\n",
              "      <th>asin</th>\n",
              "      <th>overall</th>\n",
              "    </tr>\n",
              "  </thead>\n",
              "  <tbody>\n",
              "    <tr>\n",
              "      <th>1472</th>\n",
              "      <td>A2HDEN9SPBWC5I</td>\n",
              "      <td>B001R2LQWQ</td>\n",
              "      <td>5.0</td>\n",
              "    </tr>\n",
              "    <tr>\n",
              "      <th>1488</th>\n",
              "      <td>A95J3RNEFN425</td>\n",
              "      <td>B000NGVQKO</td>\n",
              "      <td>5.0</td>\n",
              "    </tr>\n",
              "    <tr>\n",
              "      <th>1504</th>\n",
              "      <td>AQOQUWM58SGFR</td>\n",
              "      <td>B0002E1G5C</td>\n",
              "      <td>5.0</td>\n",
              "    </tr>\n",
              "    <tr>\n",
              "      <th>1536</th>\n",
              "      <td>A20SQURQ3G1BGY</td>\n",
              "      <td>B000B6DHAS</td>\n",
              "      <td>5.0</td>\n",
              "    </tr>\n",
              "    <tr>\n",
              "      <th>1537</th>\n",
              "      <td>A2UGCWC46V7PPG</td>\n",
              "      <td>B000B6DHB2</td>\n",
              "      <td>3.0</td>\n",
              "    </tr>\n",
              "  </tbody>\n",
              "</table>\n",
              "</div>"
            ],
            "text/plain": [
              "          reviewerID        asin  overall\n",
              "1472  A2HDEN9SPBWC5I  B001R2LQWQ      5.0\n",
              "1488   A95J3RNEFN425  B000NGVQKO      5.0\n",
              "1504   AQOQUWM58SGFR  B0002E1G5C      5.0\n",
              "1536  A20SQURQ3G1BGY  B000B6DHAS      5.0\n",
              "1537  A2UGCWC46V7PPG  B000B6DHB2      3.0"
            ]
          },
          "metadata": {},
          "execution_count": 39
        }
      ]
    },
    {
      "cell_type": "code",
      "source": [
        "# While we're at it, let's save some of this work for future notebooks.\n",
        "save_columns = clean_columns + ['valid']\n",
        "\n",
        "data_split[save_columns].to_csv('ratings.csv', index=False)"
      ],
      "metadata": {
        "id": "_eW0BJOdqi2y"
      },
      "execution_count": 40,
      "outputs": []
    },
    {
      "cell_type": "code",
      "source": [
        "# let's load our ratings\n",
        "ratings = cudf.read_csv(\"ratings.csv\", lines=True)"
      ],
      "metadata": {
        "id": "vlNUARTmr7lP"
      },
      "execution_count": 41,
      "outputs": []
    },
    {
      "cell_type": "code",
      "source": [
        "ratings"
      ],
      "metadata": {
        "id": "US0whexduZuD",
        "outputId": "6474dee5-ec26-451e-fd96-2b7127554f15",
        "colab": {
          "base_uri": "https://localhost:8080/",
          "height": 424
        }
      },
      "execution_count": 73,
      "outputs": [
        {
          "output_type": "execute_result",
          "data": {
            "text/html": [
              "<div>\n",
              "<style scoped>\n",
              "    .dataframe tbody tr th:only-of-type {\n",
              "        vertical-align: middle;\n",
              "    }\n",
              "\n",
              "    .dataframe tbody tr th {\n",
              "        vertical-align: top;\n",
              "    }\n",
              "\n",
              "    .dataframe thead th {\n",
              "        text-align: right;\n",
              "    }\n",
              "</style>\n",
              "<table border=\"1\" class=\"dataframe\">\n",
              "  <thead>\n",
              "    <tr style=\"text-align: right;\">\n",
              "      <th></th>\n",
              "      <th>reviewerID</th>\n",
              "      <th>asin</th>\n",
              "      <th>overall</th>\n",
              "      <th>valid</th>\n",
              "    </tr>\n",
              "  </thead>\n",
              "  <tbody>\n",
              "    <tr>\n",
              "      <th>0</th>\n",
              "      <td>A3P2J1W1RBUX6Q</td>\n",
              "      <td>B000EEJF4O</td>\n",
              "      <td>5.0</td>\n",
              "      <td>False</td>\n",
              "    </tr>\n",
              "    <tr>\n",
              "      <th>1</th>\n",
              "      <td>A21N9ACLVOMDLP</td>\n",
              "      <td>B000EEJJ5Y</td>\n",
              "      <td>5.0</td>\n",
              "      <td>False</td>\n",
              "    </tr>\n",
              "    <tr>\n",
              "      <th>2</th>\n",
              "      <td>A14VAT5EAX3D9S</td>\n",
              "      <td>B000EEJJ5Y</td>\n",
              "      <td>5.0</td>\n",
              "      <td>False</td>\n",
              "    </tr>\n",
              "    <tr>\n",
              "      <th>3</th>\n",
              "      <td>A24AQ24CD6865K</td>\n",
              "      <td>B000EEJJ5Y</td>\n",
              "      <td>5.0</td>\n",
              "      <td>False</td>\n",
              "    </tr>\n",
              "    <tr>\n",
              "      <th>4</th>\n",
              "      <td>AOINAOO0NQRGN</td>\n",
              "      <td>B000EEJJ5Y</td>\n",
              "      <td>5.0</td>\n",
              "      <td>False</td>\n",
              "    </tr>\n",
              "    <tr>\n",
              "      <th>...</th>\n",
              "      <td>...</td>\n",
              "      <td>...</td>\n",
              "      <td>...</td>\n",
              "      <td>...</td>\n",
              "    </tr>\n",
              "    <tr>\n",
              "      <th>10256</th>\n",
              "      <td>A7IZNVL7JXLM</td>\n",
              "      <td>B007T8OGLK</td>\n",
              "      <td>3.0</td>\n",
              "      <td>False</td>\n",
              "    </tr>\n",
              "    <tr>\n",
              "      <th>10257</th>\n",
              "      <td>A3EXWV8FNSSFL6</td>\n",
              "      <td>B007T8OGLK</td>\n",
              "      <td>4.0</td>\n",
              "      <td>False</td>\n",
              "    </tr>\n",
              "    <tr>\n",
              "      <th>10258</th>\n",
              "      <td>A3SUC2DJYHUU9Y</td>\n",
              "      <td>B007T8OGLK</td>\n",
              "      <td>3.0</td>\n",
              "      <td>False</td>\n",
              "    </tr>\n",
              "    <tr>\n",
              "      <th>10259</th>\n",
              "      <td>A26U7I13QO5E0C</td>\n",
              "      <td>B007T8OGLK</td>\n",
              "      <td>5.0</td>\n",
              "      <td>False</td>\n",
              "    </tr>\n",
              "    <tr>\n",
              "      <th>10260</th>\n",
              "      <td>A37E0KYNJQNP1E</td>\n",
              "      <td>B007T8OGLK</td>\n",
              "      <td>4.0</td>\n",
              "      <td>True</td>\n",
              "    </tr>\n",
              "  </tbody>\n",
              "</table>\n",
              "<p>10261 rows × 4 columns</p>\n",
              "</div>"
            ],
            "text/plain": [
              "           reviewerID        asin  overall  valid\n",
              "0      A3P2J1W1RBUX6Q  B000EEJF4O      5.0  False\n",
              "1      A21N9ACLVOMDLP  B000EEJJ5Y      5.0  False\n",
              "2      A14VAT5EAX3D9S  B000EEJJ5Y      5.0  False\n",
              "3      A24AQ24CD6865K  B000EEJJ5Y      5.0  False\n",
              "4       AOINAOO0NQRGN  B000EEJJ5Y      5.0  False\n",
              "...               ...         ...      ...    ...\n",
              "10256    A7IZNVL7JXLM  B007T8OGLK      3.0  False\n",
              "10257  A3EXWV8FNSSFL6  B007T8OGLK      4.0  False\n",
              "10258  A3SUC2DJYHUU9Y  B007T8OGLK      3.0  False\n",
              "10259  A26U7I13QO5E0C  B007T8OGLK      5.0  False\n",
              "10260  A37E0KYNJQNP1E  B007T8OGLK      4.0   True\n",
              "\n",
              "[10261 rows x 4 columns]"
            ]
          },
          "metadata": {},
          "execution_count": 73
        }
      ]
    },
    {
      "cell_type": "code",
      "source": [
        "#Before we split into train and test, let's factorize our users and items. Our test set won't be effective if it doesn't use the same indexes as the training dataset.\n",
        "user_indexes, user_mapping = ratings[\"reviewerID\"].factorize()\n",
        "item_indexes, item_mapping = ratings[\"asin\"].factorize()"
      ],
      "metadata": {
        "id": "eszZnF12qi-x"
      },
      "execution_count": 51,
      "outputs": []
    },
    {
      "cell_type": "code",
      "source": [
        "#While we're building our sparse matrix, let's get a sense of our data along the way. First, let's see how many users there are.\n",
        "user_count = len(user_mapping)\n",
        "user_count"
      ],
      "metadata": {
        "id": "nNaXqaGsqjAn",
        "outputId": "464e18e9-edd8-487b-d12f-a8da78cfc6a1",
        "colab": {
          "base_uri": "https://localhost:8080/"
        }
      },
      "execution_count": 75,
      "outputs": [
        {
          "output_type": "execute_result",
          "data": {
            "text/plain": [
              "1429"
            ]
          },
          "metadata": {},
          "execution_count": 75
        }
      ]
    },
    {
      "cell_type": "code",
      "source": [
        "#let's see how many users there are.\n",
        "item_count = len(item_mapping)\n",
        "item_count"
      ],
      "metadata": {
        "id": "HnbBU4ZTxb0o",
        "outputId": "2cae4932-a6c5-4320-830a-7f1bec2a376b",
        "colab": {
          "base_uri": "https://localhost:8080/"
        }
      },
      "execution_count": 76,
      "outputs": [
        {
          "output_type": "execute_result",
          "data": {
            "text/plain": [
              "900"
            ]
          },
          "metadata": {},
          "execution_count": 76
        }
      ]
    },
    {
      "cell_type": "code",
      "source": [
        "# Training\n",
        "train_indexes = ~ratings[\"valid\"]\n",
        "valid_indexes = ratings[\"valid\"]\n",
        "overall = ratings[\"overall\"]\n",
        "\n",
        "def get_dataset(data_selector, user_indexes, item_indexes, overall):\n",
        "    # als rows and columns based on indexes\n",
        "    row = cp.asarray(user_indexes)\n",
        "    column = cp.asarray(item_indexes)\n",
        "    data = cp.asarray(overall)\n",
        "    #sparse matrix\n",
        "    sparse_data = cupyx.scipy.sparse.coo_matrix((data, (row, column)))\n",
        "    mask = cp.asarray([1 for _ in range(len(data))], dtype=np.float32)\n",
        "    #sparse_mask\n",
        "    sparse_mask = cupyx.scipy.sparse.coo_matrix((mask, (row, column)))\n",
        "    return row, column, data, sparse_data, sparse_mask\n",
        "\n",
        "train_row, train_column, train_data, train_sparse, train_mask = get_dataset(\n",
        "    train_indexes, user_indexes, item_indexes, overall)\n",
        "\n",
        "valid_row, valid_column, valid_data, valid_sparse, valid_mask = get_dataset(\n",
        "    valid_indexes, user_indexes, item_indexes, overall)"
      ],
      "metadata": {
        "id": "oi0bLiLQqjDU"
      },
      "execution_count": 74,
      "outputs": []
    },
    {
      "cell_type": "markdown",
      "source": [
        "For instance, let's set our embeddings to 2. This means for each user, we're going to find a way to represent them using 2 numbers. We'll initialize our embedding with random values for now, and convert their range to be -1 to 1."
      ],
      "metadata": {
        "id": "SW3RN7vTECeg"
      }
    },
    {
      "cell_type": "code",
      "source": [
        "#Similarly, we'll find a way to represent each item with 2 numbers.\n",
        "embeddings = 2\n",
        "shape = (user_count, item_count)\n",
        "\n",
        "def initalize_features(length, embeddings):\n",
        "    return cp.random.rand(embeddings, length) * 2 - 1\n",
        "\n",
        "user_features = initalize_features(shape[0], embeddings)\n",
        "item_features = initalize_features(shape[1], embeddings)"
      ],
      "metadata": {
        "id": "LB1QxhnQqjFx"
      },
      "execution_count": 67,
      "outputs": []
    },
    {
      "cell_type": "code",
      "source": [
        "# From the ALS math we can make this\n",
        "def als(values, mask, features, scale=0.01):\n",
        "    numerator = values.dot(features.T)\n",
        "    squared_features = (features ** 2).sum(axis=0)\n",
        "    denominator = scale + mask.dot(squared_features)\n",
        "\n",
        "    return (numerator / denominator[:, None]).T"
      ],
      "metadata": {
        "id": "WioSolmFjQ2E"
      },
      "execution_count": 69,
      "outputs": []
    },
    {
      "cell_type": "markdown",
      "source": [
        "here is a function to test how well our model is learning. \n",
        "Calculate the Root Mean Square Error (RMSE) as our goal is to minimize the squared error."
      ],
      "metadata": {
        "id": "lwKX0m2bEyU_"
      }
    },
    {
      "cell_type": "code",
      "source": [
        "def rmse(user_features, item_features, data, row, column):\n",
        "    predictions = (user_features[:, row] * item_features[:, column]).sum(axis=0)\n",
        "    mean_squared_error = ((predictions - data) ** 2).mean() ** 0.5\n",
        "    \n",
        "    return predictions, mean_squared_error"
      ],
      "metadata": {
        "id": "2XUWxhwgjQlG"
      },
      "execution_count": 68,
      "outputs": []
    },
    {
      "cell_type": "code",
      "source": [
        "#If we repete the process inside this loop many times we will get a smaller RMSE when that learninng curve becomes so small we can say that's our final RMSE.\n",
        "for _ in range(20):\n",
        "    user_features = als(train_sparse, train_mask, item_features)\n",
        "    item_features = als(train_sparse.T, train_mask.T, user_features)\n",
        "    predictions, error = rmse(\n",
        "        user_features, item_features, valid_data, valid_row, valid_column)\n",
        "\n",
        "    print (\"RMSE:\", error)"
      ],
      "metadata": {
        "id": "IY7v22qCyEyA",
        "outputId": "7a93c18c-74d5-4ad0-d288-b76588eb4621",
        "colab": {
          "base_uri": "https://localhost:8080/"
        }
      },
      "execution_count": 72,
      "outputs": [
        {
          "output_type": "stream",
          "name": "stdout",
          "text": [
            "RMSE: 0.7204554390259571\n"
          ]
        }
      ]
    }
  ]
}